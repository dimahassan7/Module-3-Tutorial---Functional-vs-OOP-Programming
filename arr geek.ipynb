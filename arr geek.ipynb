{
 "cells": [
  {
   "cell_type": "code",
   "execution_count": null,
   "metadata": {},
   "outputs": [],
   "source": [
    "def sort_012(arr):\n",
    "    low = 0\n",
    "    mid = 0\n",
    "    high = len(arr) - 1\n",
    "\n",
    "    while mid <= high:\n",
    "        if arr[mid] == 0:\n",
    "            arr[low], arr[mid] = arr[mid], arr[low]  # Swap\n",
    "            low += 1\n",
    "            mid += 1\n",
    "        elif arr[mid] == 1:\n",
    "            mid += 1\n",
    "        else:  # arr[mid] == 2\n",
    "            arr[mid], arr[high] = arr[high], arr[mid]  # Swap\n",
    "            high -= 1\n",
    "    return arr\n",
    "\n",
    "if __name__ == \"__main__\":\n",
    "    input_line = input() # Reads the line \"0 1 2 0 1 2\"\n",
    "    arr = list(map(int, input_line.split())) # Converts it to [0, 1, 2, 0, 1, 2]\n",
    "\n",
    "    # Call the sorting function\n",
    "    sorted_array = sort_012(arr)\n",
    "    print(*(sorted_array)) # This prints elements with spaces in between"
   ]
  }
 ],
 "metadata": {
  "language_info": {
   "name": "python"
  }
 },
 "nbformat": 4,
 "nbformat_minor": 2
}
